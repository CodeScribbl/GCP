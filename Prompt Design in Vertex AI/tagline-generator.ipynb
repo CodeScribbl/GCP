{
 "cells": [
  {
   "cell_type": "code",
   "execution_count": 2,
   "id": "55cd005a-a577-4a5e-bd9a-b65bada6b221",
   "metadata": {
    "tags": []
   },
   "outputs": [
    {
     "name": "stdout",
     "output_type": "stream",
     "text": [
      "Pack\n",
      " Light, Hike Strong. \n",
      "\n"
     ]
    }
   ],
   "source": [
    "from vertexai.preview.generative_models import GenerativeModel\n",
    "\n",
    "model = GenerativeModel(\"gemini-1.5-pro\")\n",
    "\n",
    "prompt = \"\"\"\n",
    "Cymbal Direct is partnering with an outdoor gear retailer. They\\'re launching a new line of products designed to encourage young people to explore the outdoors. Help them create catchy taglines for this product line.\n",
    "\n",
    "input: Write a tagline for a durable backpack designed for hikers that makes them feel prepared. Consider styles like minimalist.\n",
    "output: Built for the Journey: Your Adventure Essentials.\n",
    "\n",
    "input: Write a tagline for a durable  light weight backpack designed for hikers, consider your style like minimalist.\n",
    "output: Built to Wander\n",
    "\n",
    "input: Write a tagline for a durable  light weight backpack designed for hikers, empowered and confident feeling. consider your style like minimalist\n",
    "output:\n",
    "\"\"\"\n",
    "\n",
    "responses = model.generate_content(\n",
    "    prompt,\n",
    "    generation_config={\n",
    "        \"temperature\": 1,\n",
    "        \"max_output_tokens\": 2048,\n",
    "        \"top_p\": 1.0,\n",
    "        \"top_k\": 40,\n",
    "    },\n",
    "    stream=True\n",
    "    )\n",
    "\n",
    "for response in responses:\n",
    "    print(response.text)"
   ]
  },
  {
   "cell_type": "code",
   "execution_count": null,
   "id": "c85116fe-5d07-430e-8b85-7ba5c782be5f",
   "metadata": {},
   "outputs": [],
   "source": []
  }
 ],
 "metadata": {
  "environment": {
   "kernel": "conda-base-py",
   "name": "workbench-notebooks.m126",
   "type": "gcloud",
   "uri": "us-docker.pkg.dev/deeplearning-platform-release/gcr.io/workbench-notebooks:m126"
  },
  "kernelspec": {
   "display_name": "Python 3 (ipykernel) (Local)",
   "language": "python",
   "name": "conda-base-py"
  },
  "language_info": {
   "codemirror_mode": {
    "name": "ipython",
    "version": 3
   },
   "file_extension": ".py",
   "mimetype": "text/x-python",
   "name": "python",
   "nbconvert_exporter": "python",
   "pygments_lexer": "ipython3",
   "version": "3.10.15"
  }
 },
 "nbformat": 4,
 "nbformat_minor": 5
}
